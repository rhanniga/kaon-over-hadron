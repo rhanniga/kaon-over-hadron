{
 "cells": [
  {
   "cell_type": "code",
   "execution_count": 1,
   "metadata": {},
   "outputs": [
    {
     "name": "stdout",
     "output_type": "stream",
     "text": [
      "Welcome to JupyROOT 6.18/04\n"
     ]
    }
   ],
   "source": [
    "import ROOT as rt"
   ]
  },
  {
   "cell_type": "markdown",
   "metadata": {},
   "source": [
    "## Setup section"
   ]
  },
  {
   "cell_type": "code",
   "execution_count": 2,
   "metadata": {},
   "outputs": [],
   "source": [
    "main_canvas = rt.TCanvas(\"main_canvas\")\n",
    "rt.gStyle.SetOptStat(0)\n",
    "rt.gStyle.SetOptFit(0)\n",
    "\n",
    "# Change the canvas margins so you can see all of the axis titles...\n",
    "main_canvas.SetRightMargin(0.09);\n",
    "main_canvas.SetLeftMargin(0.15);\n",
    "main_canvas.SetBottomMargin(0.15);"
   ]
  },
  {
   "cell_type": "code",
   "execution_count": 3,
   "metadata": {},
   "outputs": [],
   "source": [
    "# Getting all of the input files\n",
    "input_file_0_20 = rt.TFile('../online/output/cent_0_20.root')\n",
    "input_file_20_50 = rt.TFile('../online/output/cent_20_50.root')\n",
    "input_file_50_100 = rt.TFile('../online/output/cent_50_100.root')\n",
    "\n",
    "object_list_0_20 = input_file_0_20.Get(\"h-kaon\")\n",
    "object_list_20_50 = input_file_20_50.Get(\"h-kaon\")\n",
    "object_list_50_100 = input_file_50_100.Get(\"h-kaon\")"
   ]
  },
  {
   "cell_type": "code",
   "execution_count": 4,
   "metadata": {},
   "outputs": [],
   "source": [
    "object_list_0_20.FindObject(\"fDphiHKaon\").GetAxis(0).SetRangeUser(4, 8)\n",
    "object_list_20_50.FindObject(\"fDphiHKaon\").GetAxis(0).SetRangeUser(4, 8)\n",
    "object_list_50_100.FindObject(\"fDphiHKaon\").GetAxis(0).SetRangeUser(4, 8)\n",
    "object_list_0_20.FindObject(\"fDphiHKaonLS\").GetAxis(0).SetRangeUser(4, 8)\n",
    "object_list_20_50.FindObject(\"fDphiHKaonLS\").GetAxis(0).SetRangeUser(4, 8)\n",
    "object_list_50_100.FindObject(\"fDphiHKaonLS\").GetAxis(0).SetRangeUser(4, 8)\n",
    "object_list_0_20.FindObject(\"fDphiHKaonRotated\").GetAxis(0).SetRangeUser(4, 8)\n",
    "object_list_20_50.FindObject(\"fDphiHKaonRotated\").GetAxis(0).SetRangeUser(4, 8)\n",
    "object_list_50_100.FindObject(\"fDphiHKaonRotated\").GetAxis(0).SetRangeUser(4, 8)\n",
    "object_list_0_20.FindObject(\"fDphiHKaonFlipped\").GetAxis(0).SetRangeUser(4, 8)\n",
    "object_list_20_50.FindObject(\"fDphiHKaonFlipped\").GetAxis(0).SetRangeUser(4, 8)\n",
    "object_list_50_100.FindObject(\"fDphiHKaonFlipped\").GetAxis(0).SetRangeUser(4, 8)\n",
    "\n",
    "object_list_0_20.FindObject(\"fDphiHKaon\").GetAxis(1).SetRangeUser(2, 4)\n",
    "object_list_20_50.FindObject(\"fDphiHKaon\").GetAxis(1).SetRangeUser(2, 4)\n",
    "object_list_50_100.FindObject(\"fDphiHKaon\").GetAxis(1).SetRangeUser(2, 4)\n",
    "object_list_0_20.FindObject(\"fDphiHKaonLS\").GetAxis(1).SetRangeUser(2, 4)\n",
    "object_list_20_50.FindObject(\"fDphiHKaonLS\").GetAxis(1).SetRangeUser(2, 4)\n",
    "object_list_50_100.FindObject(\"fDphiHKaonLS\").GetAxis(1).SetRangeUser(2, 4)\n",
    "object_list_0_20.FindObject(\"fDphiHKaonRotated\").GetAxis(1).SetRangeUser(2, 4)\n",
    "object_list_20_50.FindObject(\"fDphiHKaonRotated\").GetAxis(1).SetRangeUser(2, 4)\n",
    "object_list_50_100.FindObject(\"fDphiHKaonRotated\").GetAxis(1).SetRangeUser(2, 4)\n",
    "object_list_0_20.FindObject(\"fDphiHKaonFlipped\").GetAxis(1).SetRangeUser(2, 4)\n",
    "object_list_20_50.FindObject(\"fDphiHKaonFlipped\").GetAxis(1).SetRangeUser(2, 4)\n",
    "object_list_50_100.FindObject(\"fDphiHKaonFlipped\").GetAxis(1).SetRangeUser(2, 4)"
   ]
  },
  {
   "cell_type": "code",
   "execution_count": 5,
   "metadata": {},
   "outputs": [
    {
     "name": "stderr",
     "output_type": "stream",
     "text": [
      "Warning in <TFile::Append>: Replacing existing TH1: fDphiHKaon_proj_4 (Potential memory leak).\n",
      "Warning in <TFile::Append>: Replacing existing TH1: fDphiHKaon_proj_4 (Potential memory leak).\n",
      "Warning in <TFile::Append>: Replacing existing TH1: fDphiHKaonLS_proj_4 (Potential memory leak).\n",
      "Warning in <TFile::Append>: Replacing existing TH1: fDphiHKaonLS_proj_4 (Potential memory leak).\n",
      "Warning in <TFile::Append>: Replacing existing TH1: fDphiHKaonRotated_proj_4 (Potential memory leak).\n",
      "Warning in <TFile::Append>: Replacing existing TH1: fDphiHKaonRotated_proj_4 (Potential memory leak).\n",
      "Warning in <TFile::Append>: Replacing existing TH1: fDphiHKaonFlipped_proj_4 (Potential memory leak).\n",
      "Warning in <TFile::Append>: Replacing existing TH1: fDphiHKaonFlipped_proj_4 (Potential memory leak).\n"
     ]
    }
   ],
   "source": [
    "Kaon_mass_0_20 = object_list_0_20.FindObject(\"fDphiHKaon\").Projection(4)\n",
    "Kaon_mass_20_50 = object_list_20_50.FindObject(\"fDphiHKaon\").Projection(4)\n",
    "Kaon_mass_50_100 = object_list_50_100.FindObject(\"fDphiHKaon\").Projection(4)\n",
    "ls_Kaon_mass_0_20 = object_list_0_20.FindObject(\"fDphiHKaonLS\").Projection(4)\n",
    "ls_Kaon_mass_20_50 = object_list_20_50.FindObject(\"fDphiHKaonLS\").Projection(4)\n",
    "ls_Kaon_mass_50_100 = object_list_50_100.FindObject(\"fDphiHKaonLS\").Projection(4)\n",
    "\n",
    "rotated_Kaon_mass_0_20 = object_list_0_20.FindObject(\"fDphiHKaonRotated\").Projection(4)\n",
    "rotated_Kaon_mass_20_50 = object_list_20_50.FindObject(\"fDphiHKaonRotated\").Projection(4)\n",
    "rotated_Kaon_mass_50_100 = object_list_50_100.FindObject(\"fDphiHKaonRotated\").Projection(4)\n",
    "\n",
    "flipped_Kaon_mass_0_20 = object_list_0_20.FindObject(\"fDphiHKaonFlipped\").Projection(4)\n",
    "flipped_Kaon_mass_20_50 = object_list_20_50.FindObject(\"fDphiHKaonFlipped\").Projection(4)\n",
    "flipped_Kaon_mass_50_100 = object_list_50_100.FindObject(\"fDphiHKaonFlipped\").Projection(4)\n",
    "\n",
    "\n",
    "\n",
    "\n",
    "Kaon_mass_0_20.Rebin(2)\n",
    "Kaon_mass_20_50.Rebin(2)\n",
    "Kaon_mass_50_100.Rebin(2)\n",
    "ls_Kaon_mass_0_20.Rebin(2)\n",
    "ls_Kaon_mass_20_50.Rebin(2)\n",
    "ls_Kaon_mass_50_100.Rebin(2)\n",
    "rotated_Kaon_mass_0_20.Rebin(2)\n",
    "rotated_Kaon_mass_20_50.Rebin(2)\n",
    "rotated_Kaon_mass_50_100.Rebin(2)\n",
    "flipped_Kaon_mass_0_20.Rebin(2)\n",
    "flipped_Kaon_mass_20_50.Rebin(2)\n",
    "flipped_Kaon_mass_50_100.Rebin(2)\n",
    "\n",
    "\n",
    "Kaon_mass_0_20.Sumw2()\n",
    "Kaon_mass_20_50.Sumw2()\n",
    "Kaon_mass_50_100.Sumw2()\n",
    "ls_Kaon_mass_0_20.Sumw2()\n",
    "ls_Kaon_mass_20_50.Sumw2()\n",
    "ls_Kaon_mass_50_100.Sumw2()\n",
    "rotated_Kaon_mass_0_20.Sumw2()\n",
    "rotated_Kaon_mass_20_50.Sumw2()\n",
    "rotated_Kaon_mass_50_100.Sumw2()\n",
    "flipped_Kaon_mass_0_20.Sumw2()\n",
    "flipped_Kaon_mass_20_50.Sumw2()\n",
    "flipped_Kaon_mass_50_100.Sumw2()"
   ]
  },
  {
   "cell_type": "code",
   "execution_count": 6,
   "metadata": {},
   "outputs": [],
   "source": [
    "rsb_left = 0.54\n",
    "rsb_right = 0.58\n",
    "\n",
    "lsb_left = 0.42\n",
    "lsb_right = 0.46\n",
    "\n",
    "signal_left = 0.485\n",
    "signal_right = 0.51"
   ]
  },
  {
   "cell_type": "markdown",
   "metadata": {},
   "source": [
    "## 0 to 20 section"
   ]
  },
  {
   "cell_type": "markdown",
   "metadata": {},
   "source": [
    "Raw histograms (US and LS) with no scaling"
   ]
  },
  {
   "cell_type": "code",
   "execution_count": 7,
   "metadata": {},
   "outputs": [],
   "source": [
    "rotated_Kaon_mass_0_20.SetTitle(\"#pi^{+}-#pi^{-} invariant mass (rotated pion)\")\n",
    "rotated_Kaon_mass_0_20.GetXaxis().SetTitle(\"Mass (GeV/c^{2})\")\n",
    "rotated_Kaon_mass_0_20.GetYaxis().SetTitle(\"dN_{#pi^{+}-#pi^{-}}/dM\")\n",
    "rotated_Kaon_mass_0_20.SetLineColor(rt.kMagenta)"
   ]
  },
  {
   "cell_type": "code",
   "execution_count": 8,
   "metadata": {},
   "outputs": [],
   "source": [
    "flipped_Kaon_mass_0_20.SetTitle(\"#pi^{+}-#pi^{-} invariant mass (flipped pion)\")\n",
    "flipped_Kaon_mass_0_20.GetXaxis().SetTitle(\"Mass (GeV/c^{2})\")\n",
    "flipped_Kaon_mass_0_20.GetYaxis().SetTitle(\"dN_{#pi^{+}-#pi^{-}}/dM\")\n",
    "flipped_Kaon_mass_0_20.SetLineColor(rt.kGreen+3)"
   ]
  },
  {
   "cell_type": "code",
   "execution_count": 9,
   "metadata": {},
   "outputs": [],
   "source": [
    "ls_Kaon_mass_0_20.SetTitle(\"#pi^{+}-#pi^{-} Invariant Mass\")\n",
    "ls_Kaon_mass_0_20.GetXaxis().SetTitle(\"Mass (GeV/c^{2})\")\n",
    "ls_Kaon_mass_0_20.GetYaxis().SetTitle(\"dN_{#pi^{+}-#pi^{-}}/dM\")\n",
    "ls_Kaon_mass_0_20.SetLineColor(rt.kRed)"
   ]
  },
  {
   "cell_type": "code",
   "execution_count": 10,
   "metadata": {},
   "outputs": [],
   "source": [
    "Kaon_mass_0_20.SetTitle(\"#pi^{+}-#pi^{-} Invariant Mass \")\n",
    "Kaon_mass_0_20.GetXaxis().SetTitle(\"Mass (GeV/c^{2})\")\n",
    "Kaon_mass_0_20.GetYaxis().SetTitle(\"dN_{#pi^{+}-#pi^{-}}/dM\")\n",
    "Kaon_mass_0_20.SetLineColor(rt.kBlue)"
   ]
  },
  {
   "cell_type": "code",
   "execution_count": 11,
   "metadata": {},
   "outputs": [],
   "source": [
    "left_bin = Kaon_mass_0_20.FindBin(lsb_left)\n",
    "right_bin = Kaon_mass_0_20.FindBin(lsb_right)\n",
    "\n",
    "rot_scale = Kaon_mass_0_20.Integral(left_bin, right_bin)/rotated_Kaon_mass_0_20.Integral(left_bin, right_bin)\n",
    "flip_scale = Kaon_mass_0_20.Integral(left_bin, right_bin)/flipped_Kaon_mass_0_20.Integral(left_bin, right_bin)\n",
    "ls_scale = Kaon_mass_0_20.Integral(left_bin, right_bin)/ls_Kaon_mass_0_20.Integral(left_bin, right_bin)\n",
    "rotated_Kaon_mass_0_20.Scale(rot_scale)\n",
    "flipped_Kaon_mass_0_20.Scale(flip_scale)\n",
    "ls_Kaon_mass_0_20.Scale(ls_scale)"
   ]
  },
  {
   "cell_type": "code",
   "execution_count": 12,
   "metadata": {},
   "outputs": [
    {
     "data": {
      "text/plain": [
       "<ROOT.TFitResultPtr object at 0x7fe24995ac90>"
      ]
     },
     "execution_count": 12,
     "metadata": {},
     "output_type": "execute_result"
    },
    {
     "name": "stdout",
     "output_type": "stream",
     "text": [
      "\n",
      "****************************************\n",
      "Minimizer is Linear\n",
      "Chi2                      =      64.0774\n",
      "NDf                       =           47\n",
      "p0                        =     -1702.03   +/-   4040.34     \n",
      "p1                        =       180588   +/-   16357.8     \n",
      "p2                        =      -126343   +/-   16379.6     \n"
     ]
    }
   ],
   "source": [
    "pol_fit = rt.TF1(\"polfit\",\"pol2(0)\", 0.4, 0.6)\n",
    "ls_Kaon_mass_0_20.Fit(pol_fit, \"RS\")"
   ]
  },
  {
   "cell_type": "code",
   "execution_count": 13,
   "metadata": {},
   "outputs": [
    {
     "data": {
      "text/plain": [
       "<ROOT.TFitResultPtr object at 0x7fe249b587d0>"
      ]
     },
     "execution_count": 13,
     "metadata": {},
     "output_type": "execute_result"
    },
    {
     "name": "stdout",
     "output_type": "stream",
     "text": [
      " FCN=100.427 FROM MIGRAD    STATUS=CONVERGED     280 CALLS         281 TOTAL\n",
      "                     EDM=1.07593e-07    STRATEGY= 1  ERROR MATRIX UNCERTAINTY   1.3 per cent\n",
      "  EXT PARAMETER                                   STEP         FIRST   \n",
      "  NO.   NAME      VALUE            ERROR          SIZE      DERIVATIVE \n",
      "   1  p0           2.55552e+02   8.60395e+00  -1.31319e-02   1.97075e-05\n",
      "   2  p1           4.97855e-01   1.70223e-04  -2.01197e-07  -4.72772e-01\n",
      "   3  p2           3.92850e-05   1.31151e-06   2.80104e-10  -4.86896e+02\n",
      "   4  p3           1.64142e-02   5.84207e-04  -9.20305e-07  -5.30802e-02\n",
      "   5  p4           4.00391e+03   3.78675e+03  -6.73281e+00   1.31256e-06\n",
      "   6  p5           1.52369e+05   1.54643e+04   2.72987e+01   6.58183e-07\n",
      "   7  p6          -9.33363e+04   1.54938e+04  -2.70984e+01   3.33915e-07\n"
     ]
    }
   ],
   "source": [
    "voigt_fit = rt.TF1(\"voigt_fit\", \"[0]*TMath::Voigt(x - [1], [2], [3], 4) + pol2(4)\", 0.4, 0.6)\n",
    "\n",
    "voigt_fit.SetParameter(0, 1.36753e02)\n",
    "voigt_fit.SetParameter(1, 0.5)\n",
    "voigt_fit.SetParameter(2, 1.00576e-05)\n",
    "voigt_fit.SetParameter(3, 6.04166e-03)\n",
    "voigt_fit.SetParameter(4, pol_fit.GetParameter(0))\n",
    "voigt_fit.SetParameter(5, pol_fit.GetParameter(1))\n",
    "voigt_fit.SetParameter(6, pol_fit.GetParameter(2))\n",
    "\n",
    "voigt_fit.SetNpx(1000)\n",
    "voigt_fit.SetLineColor(rt.kGreen+3)\n",
    "\n",
    "Kaon_mass_0_20.Fit(voigt_fit, \"RS\")"
   ]
  },
  {
   "cell_type": "code",
   "execution_count": null,
   "metadata": {},
   "outputs": [],
   "source": [
    "gaus_fit = rt.TF1(\"gaus_fit\", \"gaus(0) + pol2(3)\", 0.4, 0.6)\n",
    "\n",
    "gaus_fit.SetParameter(0, 1.36753e02)\n",
    "gaus_fit.SetParameter(1, 0.5)\n",
    "gaus_fit.SetParameter(2, 1.00576e-03)\n",
    "gaus_fit.SetParameter(4, pol_fit.GetParameter(0))\n",
    "gaus_fit.SetParameter(5, pol_fit.GetParameter(1))\n",
    "gaus_fit.SetParameter(6, pol_fit.GetParameter(2))\n",
    "\n",
    "gaus_fit.SetNpx(1000)\n",
    "gaus_fit.SetLineColor(rt.kGreen+3)\n",
    "\n",
    "Kaon_mass_0_20.Fit(gaus_fit, \"RS\")"
   ]
  },
  {
   "cell_type": "code",
   "execution_count": 14,
   "metadata": {},
   "outputs": [],
   "source": [
    "bg_fit = rt.TF1(\"bg_fit\", \"pol2(0)\", 0.44, 0.56)\n",
    "\n",
    "bg_fit.SetParameter(0, voigt_fit.GetParameter(4))\n",
    "bg_fit.SetParameter(1, voigt_fit.GetParameter(5))\n",
    "bg_fit.SetParameter(2, voigt_fit.GetParameter(6))\n",
    "\n",
    "bg_fit.SetLineColor(rt.kRed)"
   ]
  },
  {
   "cell_type": "code",
   "execution_count": 15,
   "metadata": {
    "scrolled": true
   },
   "outputs": [
    {
     "data": {
      "image/png": "[encoded data removed]",
      "text/plain": [
       "<IPython.core.display.Image object>"
      ]
     },
     "metadata": {},
     "output_type": "display_data"
    }
   ],
   "source": [
    "main_canvas.cd()\n",
    "Kaon_mass_0_20.Draw()\n",
    "#rotated_Kaon_mass_0_20.Draw(\"SAME\")\n",
    "#bg_fit.Draw(\"SAME\")\n",
    "ls_Kaon_mass_0_20.Draw(\"SAME\")\n",
    "main_canvas.Draw()"
   ]
  },
  {
   "cell_type": "code",
   "execution_count": 16,
   "metadata": {},
   "outputs": [
    {
     "name": "stdout",
     "output_type": "stream",
     "text": [
      "LSB scale factor (fit): 0.6199666929124499\n",
      "RSB scale factor (fit): 0.6590365882922777\n",
      "LSB scale factor (rotated): 0.636841302684387\n",
      "RSB scale factor (rotated): 0.6769746249319838\n",
      "Signal/Total: 0.09745323582010611\n",
      "Signal/BG: 0.10797582982712009\n"
     ]
    }
   ],
   "source": [
    "left_lsb = Kaon_mass_0_20.FindBin(lsb_left)\n",
    "right_lsb = Kaon_mass_0_20.FindBin(lsb_right)\n",
    "\n",
    "left_signal = Kaon_mass_0_20.FindBin(signal_left)\n",
    "right_signal = Kaon_mass_0_20.FindBin(signal_right)\n",
    "\n",
    "left_rsb = Kaon_mass_0_20.FindBin(rsb_left)\n",
    "right_rsb = Kaon_mass_0_20.FindBin(rsb_right)\n",
    "\n",
    "lsb_integral = Kaon_mass_0_20.Integral(left_lsb, right_lsb)\n",
    "rsb_integral = Kaon_mass_0_20.Integral(left_rsb, right_rsb)\n",
    "\n",
    "bg_fit_integral = 0\n",
    "for bin_num in range(left_signal, right_signal+1):\n",
    "    bin_center = Kaon_mass_0_20.GetBinCenter(bin_num)\n",
    "    bg_fit_integral += bg_fit.Eval(bin_center)\n",
    "    \n",
    "bg_rotated_integral = rotated_Kaon_mass_0_20.Integral(left_signal, right_signal)\n",
    "peak_integral = Kaon_mass_0_20.Integral(left_signal, right_signal)\n",
    "signal = peak_integral - bg_fit_integral\n",
    "\n",
    "sb = signal/bg_fit_integral\n",
    "\n",
    "st = signal/peak_integral\n",
    "\n",
    "\n",
    "print(f\"LSB scale factor (fit): {bg_fit_integral/lsb_integral}\\nRSB scale factor (fit): {bg_fit_integral/rsb_integral}\")\n",
    "print(f\"LSB scale factor (rotated): {bg_rotated_integral/lsb_integral}\\nRSB scale factor (rotated): {bg_rotated_integral/rsb_integral}\")\n",
    "print(f\"Signal/Total: {st}\\nSignal/BG: {sb}\")"
   ]
  },
  {
   "cell_type": "markdown",
   "metadata": {},
   "source": [
    "## 20 to 50 section"
   ]
  },
  {
   "cell_type": "code",
   "execution_count": null,
   "metadata": {},
   "outputs": [],
   "source": [
    "rotated_Kaon_mass_20_50.SetTitle(\"#pi^{+}-#pi^{-} invariant mass (rotated pion)\")\n",
    "rotated_Kaon_mass_20_50.GetXaxis().SetTitle(\"Mass (GeV/c^{2})\")\n",
    "rotated_Kaon_mass_20_50.GetYaxis().SetTitle(\"dN_{#pi^{+}-#pi^{-}}/dM\")\n",
    "rotated_Kaon_mass_20_50.SetLineColor(rt.kMagenta)"
   ]
  },
  {
   "cell_type": "code",
   "execution_count": null,
   "metadata": {},
   "outputs": [],
   "source": [
    "flipped_Kaon_mass_20_50.SetTitle(\"#pi^{+}-#pi^{-} invariant mass (flipped pion)\")\n",
    "flipped_Kaon_mass_20_50.GetXaxis().SetTitle(\"Mass (GeV/c^{2})\")\n",
    "flipped_Kaon_mass_20_50.GetYaxis().SetTitle(\"dN_{#pi^{+}-#pi^{-}}/dM\")\n",
    "flipped_Kaon_mass_20_50.SetLineColor(rt.kGreen+3)"
   ]
  },
  {
   "cell_type": "code",
   "execution_count": null,
   "metadata": {},
   "outputs": [],
   "source": [
    "ls_Kaon_mass_20_50.SetTitle(\"LS #pi^{+}-#pi^{-} Invariant Mass\")\n",
    "ls_Kaon_mass_20_50.GetXaxis().SetTitle(\"Mass (GeV/c^{2})\")\n",
    "ls_Kaon_mass_20_50.GetYaxis().SetTitle(\"dN_{#pi^{+}-#pi^{-}}/dM\")\n",
    "ls_Kaon_mass_20_50.SetLineColor(rt.kRed)"
   ]
  },
  {
   "cell_type": "code",
   "execution_count": null,
   "metadata": {},
   "outputs": [],
   "source": [
    "Kaon_mass_20_50.SetTitle(\"#pi^{+}-#pi^{-} Invariant Mass, 20-50 mult\")\n",
    "Kaon_mass_20_50.GetXaxis().SetTitle(\"Mass (GeV/c^{2})\")\n",
    "Kaon_mass_20_50.GetYaxis().SetTitle(\"dN_{#pi^{+}-#pi^{-}}/dM\")\n",
    "Kaon_mass_20_50.SetLineColor(rt.kBlue)"
   ]
  },
  {
   "cell_type": "code",
   "execution_count": null,
   "metadata": {},
   "outputs": [],
   "source": [
    "left_bin = Kaon_mass_20_50.FindBin(rsb_left)\n",
    "right_bin = Kaon_mass_20_50.FindBin(rsb_right)\n",
    "\n",
    "rot_scale = Kaon_mass_20_50.Integral(left_bin, right_bin)/rotated_Kaon_mass_20_50.Integral(left_bin, right_bin)\n",
    "flip_scale = Kaon_mass_20_50.Integral(left_bin, right_bin)/flipped_Kaon_mass_20_50.Integral(left_bin, right_bin)\n",
    "ls_scale = Kaon_mass_20_50.Integral(left_bin, right_bin)/ls_Kaon_mass_20_50.Integral(left_bin, right_bin)\n",
    "rotated_Kaon_mass_20_50.Scale(rot_scale)\n",
    "flipped_Kaon_mass_20_50.Scale(flip_scale)\n",
    "ls_Kaon_mass_20_50.Scale(ls_scale)"
   ]
  },
  {
   "cell_type": "code",
   "execution_count": null,
   "metadata": {},
   "outputs": [],
   "source": [
    "pol_fit = rt.TF1(\"polfit\",\"pol2(0)\", 0.4, 0.6)\n",
    "ls_Kaon_mass_20_50.Fit(pol_fit, \"RS\")"
   ]
  },
  {
   "cell_type": "code",
   "execution_count": null,
   "metadata": {},
   "outputs": [],
   "source": [
    "voigt_fit = rt.TF1(\"voigt_fit\", \"[0]*TMath::Voigt(x - [1], [2], [3], 4) + pol2(4)\", 0.4, 0.6)\n",
    "\n",
    "voigt_fit.SetParameter(0, 1.36753e01)\n",
    "voigt_fit.SetParameter(1, 0.5)\n",
    "voigt_fit.SetParameter(2, 1.00576e-05 )\n",
    "voigt_fit.SetParameter(3, 0.1)\n",
    "voigt_fit.SetParameter(4, pol_fit.GetParameter(0))\n",
    "voigt_fit.SetParameter(5, pol_fit.GetParameter(1))\n",
    "voigt_fit.SetParameter(6, pol_fit.GetParameter(2))\n",
    "\n",
    "voigt_fit.SetNpx(1000)\n",
    "voigt_fit.SetLineColor(rt.kGreen+3)\n",
    "\n",
    "Kaon_mass_20_50.Fit(voigt_fit, \"RS\")"
   ]
  },
  {
   "cell_type": "code",
   "execution_count": null,
   "metadata": {},
   "outputs": [],
   "source": [
    "bg_fit = rt.TF1(\"bg_fit\", \"pol2(0)\", 0.4, 0.6)\n",
    "\n",
    "bg_fit.SetParameter(0, voigt_fit.GetParameter(4))\n",
    "bg_fit.SetParameter(1, voigt_fit.GetParameter(5))\n",
    "bg_fit.SetParameter(2, voigt_fit.GetParameter(6))\n",
    "\n",
    "bg_fit.SetLineColor(rt.kRed)"
   ]
  },
  {
   "cell_type": "code",
   "execution_count": null,
   "metadata": {},
   "outputs": [],
   "source": [
    "main_canvas.cd()\n",
    "Kaon_mass_20_50.Draw()\n",
    "#ls_Kaon_mass_20_50.Draw(\"SAME\")\n",
    "bg_fit.Draw(\"SAME\")\n",
    "main_canvas.Draw()"
   ]
  },
  {
   "cell_type": "code",
   "execution_count": null,
   "metadata": {},
   "outputs": [],
   "source": [
    "left_lsb = Kaon_mass_20_50.FindBin(lsb_left)\n",
    "right_lsb = Kaon_mass_20_50.FindBin(lsb_right)\n",
    "\n",
    "left_signal = Kaon_mass_20_50.FindBin(signal_left)\n",
    "right_signal = Kaon_mass_20_50.FindBin(signal_right)\n",
    "\n",
    "left_rsb = Kaon_mass_20_50.FindBin(rsb_left)\n",
    "right_rsb = Kaon_mass_20_50.FindBin(rsb_right)\n",
    "\n",
    "lsb_integral = Kaon_mass_20_50.Integral(left_lsb, right_lsb)\n",
    "rsb_integral = Kaon_mass_20_50.Integral(left_rsb, right_rsb)\n",
    "\n",
    "bg_fit_integral = 0\n",
    "for bin_num in range(left_signal, right_signal+1):\n",
    "    bin_center = Kaon_mass_20_50.GetBinCenter(bin_num)\n",
    "    bg_fit_integral += bg_fit.Eval(bin_center)\n",
    "    \n",
    "bg_rotated_integral = rotated_Kaon_mass_20_50.Integral(left_signal, right_signal)\n",
    "peak_integral = Kaon_mass_20_50.Integral(left_signal, right_signal)\n",
    "signal = peak_integral - bg_fit_integral\n",
    "\n",
    "st = signal/peak_integral\n",
    "\n",
    "print(f\"LSB scale factor (fit): {bg_fit_integral/lsb_integral}\\nRSB scale factor (fit): {bg_fit_integral/rsb_integral}\")\n",
    "print(f\"LSB scale factor (rotated): {bg_rotated_integral/lsb_integral}\\nRSB scale factor (rotated): {bg_rotated_integral/rsb_integral}\")\n",
    "print(f\"Signal/Total: {st}\")"
   ]
  },
  {
   "cell_type": "markdown",
   "metadata": {},
   "source": [
    "## 50 to 100 section"
   ]
  },
  {
   "cell_type": "code",
   "execution_count": null,
   "metadata": {},
   "outputs": [],
   "source": [
    "rotated_Kaon_mass_50_100.SetTitle(\"#pi^{+}-#pi^{-} invariant mass (rotated pion)\")\n",
    "rotated_Kaon_mass_50_100.GetXaxis().SetTitle(\"Mass (GeV/c^{2})\")\n",
    "rotated_Kaon_mass_50_100.GetYaxis().SetTitle(\"dN_{#pi^{+}-#pi^{-}}/dM\")\n",
    "rotated_Kaon_mass_50_100.SetLineColor(rt.kMagenta)"
   ]
  },
  {
   "cell_type": "code",
   "execution_count": null,
   "metadata": {},
   "outputs": [],
   "source": [
    "flipped_Kaon_mass_50_100.SetTitle(\"#pi^{+}-#pi^{-} invariant mass (flipped pion)\")\n",
    "flipped_Kaon_mass_50_100.GetXaxis().SetTitle(\"Mass (GeV/c^{2})\")\n",
    "flipped_Kaon_mass_50_100.GetYaxis().SetTitle(\"dN_{#pi^{+}-#pi^{-}}/dM\")\n",
    "flipped_Kaon_mass_50_100.SetLineColor(rt.kGreen+3)"
   ]
  },
  {
   "cell_type": "code",
   "execution_count": null,
   "metadata": {},
   "outputs": [],
   "source": [
    "ls_Kaon_mass_50_100.SetTitle(\"LS #pi^{+}-#pi^{-} Invariant Mass\")\n",
    "ls_Kaon_mass_50_100.GetXaxis().SetTitle(\"Mass (GeV/c^{2})\")\n",
    "ls_Kaon_mass_50_100.GetYaxis().SetTitle(\"dN_{#pi^{+}-#pi^{-}}/dM\")\n",
    "ls_Kaon_mass_50_100.SetLineColor(rt.kRed)"
   ]
  },
  {
   "cell_type": "code",
   "execution_count": null,
   "metadata": {},
   "outputs": [],
   "source": [
    "Kaon_mass_50_100.SetTitle(\"#pi^{+}-#pi^{-} Invariant Mass, 50-100 mult\")\n",
    "Kaon_mass_50_100.GetXaxis().SetTitle(\"Mass (GeV/c^{2})\")\n",
    "Kaon_mass_50_100.GetYaxis().SetTitle(\"dN_{#pi^{+}-#pi^{-}}/dM\")\n",
    "Kaon_mass_50_100.SetLineColor(rt.kBlue)"
   ]
  },
  {
   "cell_type": "code",
   "execution_count": null,
   "metadata": {},
   "outputs": [],
   "source": [
    "left_bin = Kaon_mass_50_100.FindBin(rsb_left)\n",
    "right_bin = Kaon_mass_50_100.FindBin(rsb_right)\n",
    "\n",
    "rot_scale = Kaon_mass_50_100.Integral(left_bin, right_bin)/rotated_Kaon_mass_50_100.Integral(left_bin, right_bin)\n",
    "flip_scale = Kaon_mass_50_100.Integral(left_bin, right_bin)/flipped_Kaon_mass_50_100.Integral(left_bin, right_bin)\n",
    "ls_scale = Kaon_mass_50_100.Integral(left_bin, right_bin)/ls_Kaon_mass_50_100.Integral(left_bin, right_bin)\n",
    "rotated_Kaon_mass_50_100.Scale(rot_scale)\n",
    "flipped_Kaon_mass_50_100.Scale(flip_scale)\n",
    "ls_Kaon_mass_50_100.Scale(ls_scale)"
   ]
  },
  {
   "cell_type": "code",
   "execution_count": null,
   "metadata": {},
   "outputs": [],
   "source": [
    "pol_fit = rt.TF1(\"polfit\",\"pol2(0)\", 0.4, 0.6)\n",
    "rotated_Kaon_mass_50_100.Fit(pol_fit, \"RS\")"
   ]
  },
  {
   "cell_type": "code",
   "execution_count": null,
   "metadata": {},
   "outputs": [],
   "source": [
    "voigt_fit = rt.TF1(\"voigt_fit\", \"[0]*TMath::Voigt(x - [1], [2], [3], 4) + pol2(4)\", 0.4, 0.6)\n",
    "\n",
    "voigt_fit.SetParameter(0, 1.36753e01)\n",
    "voigt_fit.SetParameter(1, 0.5)\n",
    "voigt_fit.SetParameter(2, 1.00576e-05 )\n",
    "voigt_fit.SetParameter(3, 0.1)\n",
    "voigt_fit.SetParameter(4, pol_fit.GetParameter(0))\n",
    "voigt_fit.SetParameter(5, pol_fit.GetParameter(1))\n",
    "voigt_fit.SetParameter(6, pol_fit.GetParameter(2))\n",
    "\n",
    "voigt_fit.SetNpx(1000)\n",
    "voigt_fit.SetLineColor(rt.kGreen+3)\n",
    "\n",
    "Kaon_mass_50_100.Fit(voigt_fit, \"RS\")"
   ]
  },
  {
   "cell_type": "code",
   "execution_count": null,
   "metadata": {},
   "outputs": [],
   "source": [
    "bg_fit = rt.TF1(\"bg_fit\", \"pol2(0)\", 0.4, 0.6)\n",
    "\n",
    "bg_fit.SetParameter(0, voigt_fit.GetParameter(4))\n",
    "bg_fit.SetParameter(1, voigt_fit.GetParameter(5))\n",
    "bg_fit.SetParameter(2, voigt_fit.GetParameter(6))\n",
    "\n",
    "bg_fit.SetLineColor(rt.kRed)"
   ]
  },
  {
   "cell_type": "code",
   "execution_count": null,
   "metadata": {
    "scrolled": true
   },
   "outputs": [],
   "source": [
    "main_canvas.cd()\n",
    "#Kaon_mass_50_100.GetYaxis().SetRangeUser(5000, 8000)\n",
    "Kaon_mass_50_100.Draw()\n",
    "#ls_Kaon_mass_50_100.Draw(\"SAME\")\n",
    "bg_fit.Draw(\"SAME\")\n",
    "main_canvas.Draw()"
   ]
  },
  {
   "cell_type": "code",
   "execution_count": null,
   "metadata": {
    "scrolled": true
   },
   "outputs": [],
   "source": [
    "left_lsb = Kaon_mass_50_100.FindBin(lsb_left)\n",
    "right_lsb = Kaon_mass_50_100.FindBin(lsb_right)\n",
    "\n",
    "left_signal = Kaon_mass_50_100.FindBin(signal_left)\n",
    "right_signal = Kaon_mass_50_100.FindBin(signal_right)\n",
    "\n",
    "left_rsb = Kaon_mass_50_100.FindBin(rsb_left)\n",
    "right_rsb = Kaon_mass_50_100.FindBin(rsb_right)\n",
    "\n",
    "lsb_integral = Kaon_mass_50_100.Integral(left_lsb, right_lsb)\n",
    "rsb_integral = Kaon_mass_50_100.Integral(left_rsb, right_rsb)\n",
    "\n",
    "bg_fit_integral = 0\n",
    "for bin_num in range(left_signal, right_signal+1):\n",
    "    bin_center = Kaon_mass_50_100.GetBinCenter(bin_num)\n",
    "    bg_fit_integral += bg_fit.Eval(bin_center)\n",
    "\n",
    "bg_rotated_integral = rotated_Kaon_mass_50_100.Integral(left_signal, right_signal)\n",
    "peak_integral = Kaon_mass_50_100.Integral(left_signal, right_signal)\n",
    "signal = peak_integral - bg_fit_integral\n",
    "\n",
    "st = signal/peak_integral\n",
    "\n",
    "print(f\"LSB scale factor (fit): {bg_fit_integral/lsb_integral}\\nRSB scale factor (fit): {bg_fit_integral/rsb_integral}\")\n",
    "print(f\"LSB scale factor (rotated): {bg_rotated_integral/lsb_integral}\\nRSB scale factor (rotated): {bg_rotated_integral/rsb_integral}\")\n",
    "print(f\"Signal/Total: {st}\")    "
   ]
  },
  {
   "cell_type": "markdown",
   "metadata": {},
   "source": [
    "### BACKUP"
   ]
  },
  {
   "cell_type": "code",
   "execution_count": null,
   "metadata": {},
   "outputs": [],
   "source": [
    "rsb_left = 1.135\n",
    "rsb_right = 1.155\n",
    "\n",
    "lsb_left = 1.08\n",
    "lsb_right = 1.1\n",
    "\n",
    "rsb_0_20 = object_list_0_20.FindObject(\"fDphiHLambda\").Projection(2, 4)\n",
    "rsb_0_20.SetName(\"rsb_0_20\")\n",
    "rsb_20_50 = object_list_20_50.FindObject(\"fDphiHLambda\").Projection(2, 4)\n",
    "rsb_20_50.SetName(\"rsb_20_50\")\n",
    "rsb_50_100 = object_list_50_100.FindObject(\"fDphiHLambda\").Projection(2, 4)\n",
    "rsb_50_100.SetName(\"rsb_50_100\")\n",
    "\n",
    "lsb_0_20 = object_list_0_20.FindObject(\"fDphiHLambda\").Projection(2, 4)\n",
    "lsb_0_20.SetName(\"lsb_0_20\")\n",
    "lsb_20_50 = object_list_20_50.FindObject(\"fDphiHLambda\").Projection(2, 4)\n",
    "lsb_20_50.SetName(\"lsb_20_50\")\n",
    "lsb_50_100 = object_list_50_100.FindObject(\"fDphiHLambda\").Projection(2, 4)\n",
    "lsb_50_100.SetName(\"lsb_50_100\")\n",
    "\n",
    "rsb_0_20.GetXaxis().SetRangeUser(rsb_left, rsb_right)\n",
    "rsb_20_50.GetXaxis().SetRangeUser(rsb_left, rsb_right)\n",
    "rsb_50_100.GetXaxis().SetRangeUser(rsb_left, rsb_right)\n",
    "\n",
    "lsb_0_20.GetXaxis().SetRangeUser(lsb_left, lsb_right)\n",
    "lsb_20_50.GetXaxis().SetRangeUser(lsb_left, lsb_right)\n",
    "lsb_50_100.GetXaxis().SetRangeUser(lsb_left, lsb_right)"
   ]
  },
  {
   "cell_type": "code",
   "execution_count": null,
   "metadata": {},
   "outputs": [],
   "source": [
    "rsb_dphi_0_20 = rsb_0_20.ProjectionY()\n",
    "rsb_dphi_0_20.Sumw2()\n",
    "\n",
    "rsb_dphi_20_50 = rsb_20_50.ProjectionY()\n",
    "rsb_dphi_20_50.Sumw2()\n",
    "\n",
    "rsb_dphi_50_100 = rsb_50_100.ProjectionY()\n",
    "rsb_dphi_50_100.Sumw2()"
   ]
  },
  {
   "cell_type": "code",
   "execution_count": null,
   "metadata": {},
   "outputs": [],
   "source": [
    "lsb_dphi_0_20 = lsb_0_20.ProjectionY()\n",
    "lsb_dphi_0_20.Sumw2()\n",
    "\n",
    "lsb_dphi_20_50 = lsb_20_50.ProjectionY()\n",
    "lsb_dphi_20_50.Sumw2()\n",
    "\n",
    "lsb_dphi_50_100 = lsb_50_100.ProjectionY()\n",
    "lsb_dphi_50_100.Sumw2()"
   ]
  },
  {
   "cell_type": "code",
   "execution_count": null,
   "metadata": {},
   "outputs": [],
   "source": [
    "rsb_dphi_0_20.Scale(lsb_dphi_0_20.Integral()/rsb_dphi_0_20.Integral())\n",
    "rsb_dphi_0_20.SetLineColor(rt.kBlue)\n",
    "rsb_dphi_0_20.SetTitle(\"RSB (blue) normalized to LSB (pink) #Delta#varphi\")\n",
    "lsb_dphi_0_20.SetLineColor(rt.kMagenta)\n",
    "rsb_dphi_0_20.Draw()\n",
    "lsb_dphi_0_20.Draw(\"SAME\")\n",
    "main_canvas.Draw()"
   ]
  },
  {
   "cell_type": "code",
   "execution_count": null,
   "metadata": {},
   "outputs": [],
   "source": [
    "rsb_dphi_20_50.Scale(lsb_dphi_20_50.Integral()/rsb_dphi_20_50.Integral())\n",
    "rsb_dphi_20_50.SetLineColor(rt.kBlue)\n",
    "rsb_dphi_20_50.SetTitle(\"RSB (blue) normalized to LSB (pink) #Delta#varphi\")\n",
    "lsb_dphi_20_50.SetLineColor(rt.kMagenta)\n",
    "rsb_dphi_20_50.Draw()\n",
    "lsb_dphi_20_50.Draw(\"SAME\")\n",
    "main_canvas.Draw()"
   ]
  },
  {
   "cell_type": "code",
   "execution_count": null,
   "metadata": {},
   "outputs": [],
   "source": [
    "rsb_dphi_50_100.Scale(lsb_dphi_50_100.Integral()/rsb_dphi_50_100.Integral())\n",
    "rsb_dphi_50_100.SetLineColor(rt.kBlue)\n",
    "rsb_dphi_50_100.SetTitle(\"RSB (blue) normalized to LSB (pink) #Delta#varphi\")\n",
    "lsb_dphi_50_100.SetLineColor(rt.kMagenta)\n",
    "rsb_dphi_50_100.Draw()\n",
    "lsb_dphi_50_100.Draw(\"SAME\")\n",
    "main_canvas.Draw()"
   ]
  }
 ],
 "metadata": {
  "kernelspec": {
   "display_name": "Python 3",
   "language": "python",
   "name": "python3"
  },
  "language_info": {
   "codemirror_mode": {
    "name": "ipython",
    "version": 3
   },
   "file_extension": ".py",
   "mimetype": "text/x-python",
   "name": "python",
   "nbconvert_exporter": "python",
   "pygments_lexer": "ipython3",
   "version": "3.7.6"
  }
 },
 "nbformat": 4,
 "nbformat_minor": 4
}
